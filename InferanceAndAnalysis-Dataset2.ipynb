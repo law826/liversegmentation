{
 "cells": [
  {
   "cell_type": "code",
   "execution_count": 3,
   "metadata": {},
   "outputs": [
    {
     "ename": "ModuleNotFoundError",
     "evalue": "No module named 'keras'",
     "output_type": "error",
     "traceback": [
      "\u001b[0;31m---------------------------------------------------------------------------\u001b[0m",
      "\u001b[0;31mModuleNotFoundError\u001b[0m                       Traceback (most recent call last)",
      "\u001b[0;32m<ipython-input-3-5a952850cc27>\u001b[0m in \u001b[0;36m<module>\u001b[0;34m\u001b[0m\n\u001b[1;32m      8\u001b[0m \u001b[0;32mfrom\u001b[0m \u001b[0mmatplotlib\u001b[0m \u001b[0;32mimport\u001b[0m \u001b[0mpyplot\u001b[0m \u001b[0;32mas\u001b[0m \u001b[0mplt\u001b[0m\u001b[0;34m\u001b[0m\u001b[0;34m\u001b[0m\u001b[0m\n\u001b[1;32m      9\u001b[0m \u001b[0;32mfrom\u001b[0m \u001b[0mnatsort\u001b[0m \u001b[0;32mimport\u001b[0m \u001b[0mnatsorted\u001b[0m\u001b[0;34m\u001b[0m\u001b[0;34m\u001b[0m\u001b[0m\n\u001b[0;32m---> 10\u001b[0;31m \u001b[0;32mimport\u001b[0m \u001b[0mkeras\u001b[0m\u001b[0;34m\u001b[0m\u001b[0;34m\u001b[0m\u001b[0m\n\u001b[0m\u001b[1;32m     11\u001b[0m \u001b[0;32mfrom\u001b[0m \u001b[0mkeras\u001b[0m\u001b[0;34m.\u001b[0m\u001b[0moptimizers\u001b[0m \u001b[0;32mimport\u001b[0m \u001b[0mAdam\u001b[0m\u001b[0;34m\u001b[0m\u001b[0;34m\u001b[0m\u001b[0m\n\u001b[1;32m     12\u001b[0m \u001b[0;34m\u001b[0m\u001b[0m\n",
      "\u001b[0;31mModuleNotFoundError\u001b[0m: No module named 'keras'"
     ]
    }
   ],
   "source": [
    "# some imports\n",
    "import os\n",
    "import numpy as np\n",
    "import pickle\n",
    "from functools import reduce\n",
    "import operator\n",
    "from glob import glob\n",
    "%matplotlib notebook\n",
    "from matplotlib import pyplot as plt\n",
    "from natsort import natsorted\n",
    "import keras\n",
    "from keras.optimizers import Adam\n",
    "\n",
    "# import custom functions and viewing tools\n",
    "from VisTools import multi_slice_viewer0, mask_viewer0\n",
    "from KerasModel import BlockModel, dice_coef_loss, CalcVolumes"
   ]
  },
  {
   "cell_type": "code",
   "execution_count": 2,
   "metadata": {},
   "outputs": [
    {
     "ename": "NameError",
     "evalue": "name 'os' is not defined",
     "output_type": "error",
     "traceback": [
      "\u001b[0;31m---------------------------------------------------------------------------\u001b[0m",
      "\u001b[0;31mNameError\u001b[0m                                 Traceback (most recent call last)",
      "\u001b[0;32m<ipython-input-2-df0e911ad573>\u001b[0m in \u001b[0;36m<module>\u001b[0;34m\u001b[0m\n\u001b[1;32m      2\u001b[0m \u001b[0;31m# model version to use\u001b[0m\u001b[0;34m\u001b[0m\u001b[0;34m\u001b[0m\u001b[0;34m\u001b[0m\u001b[0m\n\u001b[1;32m      3\u001b[0m \u001b[0mmodel_version\u001b[0m \u001b[0;34m=\u001b[0m \u001b[0;36m5\u001b[0m\u001b[0;34m\u001b[0m\u001b[0;34m\u001b[0m\u001b[0m\n\u001b[0;32m----> 4\u001b[0;31m model_weights_path = os.path.join(os.getcwd(),\n\u001b[0m\u001b[1;32m      5\u001b[0m                                   'BestModelWeights_dataset2_v{:02d}.h5'.format(model_version))\n\u001b[1;32m      6\u001b[0m \u001b[0;31m# set data directories\u001b[0m\u001b[0;34m\u001b[0m\u001b[0;34m\u001b[0m\u001b[0;34m\u001b[0m\u001b[0m\n",
      "\u001b[0;31mNameError\u001b[0m: name 'os' is not defined"
     ]
    }
   ],
   "source": [
    "#~# some parameters to set for inference #~#\n",
    "# model version to use\n",
    "model_version = 6\n",
    "model_weights_path = os.path.join(os.getcwd(),\n",
    "                                  'BestModelWeights_dataset2_v{:02d}.h5'.format(model_version))"
   ]
  },
  {
   "cell_type": "code",
   "execution_count": 47,
   "metadata": {},
   "outputs": [
    {
     "name": "stdout",
     "output_type": "stream",
     "text": [
      "The testing set contains:\n",
      "-----------------------\n",
      "10 SSFSE_output unique subjects\n",
      "23 SSFSE_output scans\n",
      "-----------------------\n",
      "10 opposed_output unique subjects\n",
      "10 opposed_output scans\n",
      "-----------------------\n",
      "10 t1nfs_output unique subjects\n",
      "19 t1nfs_output scans\n"
     ]
    }
   ],
   "source": [
    "# load testing data\n",
    "with open('test_input_files_v{:02d}.pkl'.format(model_version), 'rb') as f:\n",
    "    input_files_test_groups = pickle.load(f)\n",
    "test_input_files = natsorted(reduce(operator.add,input_files_test_groups))\n",
    "with open('test_target_files_v{:02d}.pkl'.format(model_version), 'rb') as f:\n",
    "    target_files_test_groups = pickle.load(f)\n",
    "test_target_files = natsorted(reduce(operator.add,target_files_test_groups))\n",
    "# find unique sequence names\n",
    "sequences = [os.path.split(os.path.dirname(f))[1] for f in test_input_files]\n",
    "unq_sequences = list(set(sequences))\n",
    "# count up number of subjects and scans for each sequence\n",
    "seq_subj_count = [[len(g) for g in input_files_test_groups if s in reduce(operator.add,g)] for s in unq_sequences]\n",
    "seq_subj_sum = [len(g) for g in seq_subj_count]\n",
    "seq_scan_sum = [np.sum(g) for g in seq_subj_count]\n",
    "print('The testing set contains:')\n",
    "for i,s in enumerate(unq_sequences):\n",
    "    print('-----------------------')\n",
    "    print('{} {} unique subjects'.format(seq_subj_sum[i],s))\n",
    "    print('{} {} scans'.format(seq_scan_sum[i],s))\n",
    "# resplit by sequence instead of by subject\n",
    "grouped_input_files = [[f for f in test_input_files if s in f] for s in unq_sequences]\n",
    "grouped_target_files = [[f for f in test_target_files if s in f] for s in unq_sequences]"
   ]
  },
  {
   "cell_type": "code",
   "execution_count": null,
   "metadata": {},
   "outputs": [],
   "source": [
    "print('Loading data...')\n",
    "inputs = [np.concatenate([np.load(f) for f in g])[...,np.newaxis] for g in grouped_input_files]\n",
    "targets = [np.concatenate([np.load(f) for f in g])[...,np.newaxis] for g in grouped_target_files]\n",
    "print(\"Data loaded\")"
   ]
  },
  {
   "cell_type": "code",
   "execution_count": null,
   "metadata": {
    "scrolled": false
   },
   "outputs": [],
   "source": [
    "# prepare model\n",
    "model = BlockModel(inputs[0].shape,filt_num=16,numBlocks=4)\n",
    "model.compile(optimizer=Adam(), loss=dice_coef_loss)\n",
    "\n",
    "# load best weights\n",
    "model.load_weights(model_weights_path)\n",
    "# evaluate on test data\n",
    "print('Evaluating data...')\n",
    "for i,d in enumerate(unq_sequences):\n",
    "    score = model.evaluate(inputs[i],targets[i],verbose=1)\n",
    "    print(\"Test Dice score on {} is {:.03f}\".format(d,1-score))"
   ]
  },
  {
   "cell_type": "code",
   "execution_count": null,
   "metadata": {},
   "outputs": [],
   "source": [
    "# Get predicted masks\n",
    "output = [model.predict(inp,batch_size=16) for inp in inputs]"
   ]
  },
  {
   "cell_type": "code",
   "execution_count": null,
   "metadata": {},
   "outputs": [],
   "source": [
    "# display image of index of choice\n",
    "seq = 0\n",
    "ind = 0\n",
    "DisplayDifferenceMask(testX[ind,...,0],testY[ind,...,0],output[ind,...,0])"
   ]
  },
  {
   "cell_type": "code",
   "execution_count": null,
   "metadata": {},
   "outputs": [],
   "source": [
    "# display some results\n",
    "seq_num = 1\n",
    "print('Generating {} masks...'.format(unq_sequences[seq_num]))\n",
    "mask_viewer0(inputs[seq_num][...,0],targets[seq_num][...,0],output[seq_num][...,0],name=unq_sequences[seq_num])\n",
    "plt.show()"
   ]
  },
  {
   "cell_type": "markdown",
   "metadata": {},
   "source": [
    "Below section not yet fully updated for dataset2 analysis"
   ]
  },
  {
   "cell_type": "code",
   "execution_count": null,
   "metadata": {},
   "outputs": [],
   "source": [
    "# set voxel dimensions (in cm)\n",
    "sx = 1\n",
    "sy = 1\n",
    "sz = 1\n",
    "vox_vol = sx*sy*sz\n",
    "# loop over different sequence types\n",
    "for sequence in all_inputs:\n",
    "    # loop over all subjects\n",
    "    results = []\n",
    "    for inp_file,targ_file in zip(all_inputs,all_targets):\n",
    "        # run function to perform calculations\n",
    "        calc,truth = CalcVolumes(inp_file,targ_file,vox_vol,model)\n",
    "        results.append((calc,truth))\n",
    "# display results\n",
    "print('---------------------------------------')\n",
    "print(inp_file[-30:])\n",
    "print(\"The calculated volume is {:.02f} voxels\".format(calc))\n",
    "print(\"The actual volume is {:.02f} voxels\".format(truth))"
   ]
  },
  {
   "cell_type": "code",
   "execution_count": 1,
   "metadata": {},
   "outputs": [
    {
     "ename": "NameError",
     "evalue": "name 'results' is not defined",
     "output_type": "error",
     "traceback": [
      "\u001b[0;31m---------------------------------------------------------------------------\u001b[0m",
      "\u001b[0;31mNameError\u001b[0m                                 Traceback (most recent call last)",
      "\u001b[0;32m<ipython-input-1-440bba10b79b>\u001b[0m in \u001b[0;36m<module>\u001b[0;34m\u001b[0m\n\u001b[0;32m----> 1\u001b[0;31m \u001b[0mx\u001b[0m \u001b[0;34m=\u001b[0m \u001b[0;34m[\u001b[0m\u001b[0mr\u001b[0m\u001b[0;34m[\u001b[0m\u001b[0;36m1\u001b[0m\u001b[0;34m]\u001b[0m \u001b[0;32mfor\u001b[0m \u001b[0mr\u001b[0m \u001b[0;32min\u001b[0m \u001b[0mresults\u001b[0m\u001b[0;34m]\u001b[0m\u001b[0;34m\u001b[0m\u001b[0;34m\u001b[0m\u001b[0m\n\u001b[0m\u001b[1;32m      2\u001b[0m \u001b[0my\u001b[0m \u001b[0;34m=\u001b[0m \u001b[0;34m[\u001b[0m\u001b[0mr\u001b[0m\u001b[0;34m[\u001b[0m\u001b[0;36m0\u001b[0m\u001b[0;34m]\u001b[0m \u001b[0;32mfor\u001b[0m \u001b[0mr\u001b[0m \u001b[0;32min\u001b[0m \u001b[0mresults\u001b[0m\u001b[0;34m]\u001b[0m\u001b[0;34m\u001b[0m\u001b[0;34m\u001b[0m\u001b[0m\n\u001b[1;32m      3\u001b[0m \u001b[0mplt\u001b[0m\u001b[0;34m.\u001b[0m\u001b[0mfigure\u001b[0m\u001b[0;34m(\u001b[0m\u001b[0;34m)\u001b[0m\u001b[0;34m\u001b[0m\u001b[0;34m\u001b[0m\u001b[0m\n\u001b[1;32m      4\u001b[0m \u001b[0mplt\u001b[0m\u001b[0;34m.\u001b[0m\u001b[0mplot\u001b[0m\u001b[0;34m(\u001b[0m\u001b[0mx\u001b[0m\u001b[0;34m,\u001b[0m\u001b[0my\u001b[0m\u001b[0;34m,\u001b[0m\u001b[0;34m'ro'\u001b[0m\u001b[0;34m)\u001b[0m\u001b[0;34m\u001b[0m\u001b[0;34m\u001b[0m\u001b[0m\n\u001b[1;32m      5\u001b[0m \u001b[0mplt\u001b[0m\u001b[0;34m.\u001b[0m\u001b[0mplot\u001b[0m\u001b[0;34m(\u001b[0m\u001b[0mnp\u001b[0m\u001b[0;34m.\u001b[0m\u001b[0marange\u001b[0m\u001b[0;34m(\u001b[0m\u001b[0;36m0\u001b[0m\u001b[0;34m,\u001b[0m\u001b[0mnp\u001b[0m\u001b[0;34m.\u001b[0m\u001b[0mmax\u001b[0m\u001b[0;34m(\u001b[0m\u001b[0mx\u001b[0m\u001b[0;34m)\u001b[0m\u001b[0;34m)\u001b[0m\u001b[0;34m,\u001b[0m\u001b[0mnp\u001b[0m\u001b[0;34m.\u001b[0m\u001b[0marange\u001b[0m\u001b[0;34m(\u001b[0m\u001b[0;36m0\u001b[0m\u001b[0;34m,\u001b[0m\u001b[0mnp\u001b[0m\u001b[0;34m.\u001b[0m\u001b[0mmax\u001b[0m\u001b[0;34m(\u001b[0m\u001b[0mx\u001b[0m\u001b[0;34m)\u001b[0m\u001b[0;34m)\u001b[0m\u001b[0;34m,\u001b[0m\u001b[0;34m'k--'\u001b[0m\u001b[0;34m)\u001b[0m\u001b[0;34m\u001b[0m\u001b[0;34m\u001b[0m\u001b[0m\n",
      "\u001b[0;31mNameError\u001b[0m: name 'results' is not defined"
     ]
    }
   ],
   "source": [
    "x = [r[1] for r in results]\n",
    "y = [r[0] for r in results]\n",
    "plt.figure()\n",
    "plt.plot(x,y,'ro')\n",
    "plt.plot(np.arange(0,np.max(x)),np.arange(0,np.max(x)),'k--')\n",
    "plt.xlim([0,np.max(x)])\n",
    "plt.ylim([0,np.max(y)])\n",
    "plt.ylabel('Calculated Volume (cc)')\n",
    "plt.xlabel('Actual Volume (cc)')\n",
    "plt.title(\"Correlation of Actual and Predicted Liver Volumes of Test Subjects\")\n",
    "plt.show()\n",
    "cc = np.corrcoef(x,y)[0,1]\n",
    "print('Correlation coefficient is {:.03f}'.format(cc))"
   ]
  }
 ],
 "metadata": {
  "kernelspec": {
   "display_name": "Python 3",
   "language": "python",
   "name": "python3"
  },
  "language_info": {
   "codemirror_mode": {
    "name": "ipython",
    "version": 3
   },
   "file_extension": ".py",
   "mimetype": "text/x-python",
   "name": "python",
   "nbconvert_exporter": "python",
   "pygments_lexer": "ipython3",
   "version": "3.7.3"
  }
 },
 "nbformat": 4,
 "nbformat_minor": 2
}
